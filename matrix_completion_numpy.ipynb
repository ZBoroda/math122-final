{
 "cells": [
  {
   "cell_type": "markdown",
   "metadata": {},
   "source": [
    "# Movie ratings\n"
   ]
  },
  {
   "cell_type": "code",
   "execution_count": 244,
   "metadata": {},
   "outputs": [],
   "source": [
    "# useful packages\n",
    "import numpy as np\n",
    "import csv\n",
    "import math\n",
    "import pandas as pd\n",
    "from sklearn import preprocessing\n",
    "from sklearn import datasets\n",
    "from sklearn import cluster\n",
    "from sklearn.metrics import mean_squared_error\n",
    "import matplotlib.pyplot as plt\n",
    "import itertools\n",
    "\n",
    "# load the browsing history data\n",
    "user_history = pd.read_csv(\"user_history.csv\")\n",
    "user_history_without_user_ID = user_history.drop(['USER ID'],axis=1)\n",
    "user_history_indexed = user_history.set_index('USER ID')\n",
    "user_ratings = pd.read_csv(\"user_ratings.csv\")\n",
    "\n",
    "# load the ratings data\n",
    "train = pd.read_csv(\"train_rating.csv\")\n",
    "test = pd.read_csv(\"test_rating.csv\")"
   ]
  },
  {
   "cell_type": "code",
   "execution_count": 245,
   "metadata": {},
   "outputs": [],
   "source": [
    "row_id_to_ind = dict(zip(user_history['USER ID'].to_numpy(), range(len(user_history['USER ID'].to_numpy()))))\n",
    "ind_to_row_id = dict(zip(range(len(user_history['USER ID'].to_numpy())), user_history['USER ID'].to_numpy()))\n",
    "\n",
    "website_id_to_ind = dict(zip(user_history_indexed.columns.to_numpy(), range(len(user_history_indexed.columns.to_numpy()))))\n",
    "ind_to_website_id = dict(zip(range(len(user_history_indexed.columns.to_numpy())), user_history_indexed.columns.to_numpy()))\n",
    "\n",
    "col_id_to_ind = dict(zip(train['PRODUCT'].unique(), range(len(train['PRODUCT'].unique()))))\n",
    "ind_to_col_id = dict(zip(range(len(train['PRODUCT'].unique())), train['PRODUCT'].unique()))"
   ]
  },
  {
   "cell_type": "code",
   "execution_count": 246,
   "metadata": {},
   "outputs": [],
   "source": [
    "learning_rate = 0.005\n",
    "\n",
    "train_ratings = train['RATING']\n",
    "train_rows = train['USER ID']\n",
    "train_cols = train['PRODUCT']\n",
    "test_ratings = test['RATING']\n",
    "test_rows = test['USER ID']\n",
    "test_cols = test['PRODUCT']\n",
    "\n",
    "m = len(train_ratings) # the size of the training set                             #30352\n",
    "n_rows = user_history['USER ID'].unique().shape[0] # the largest index, plus 1    #4500\n",
    "n_cols = train_cols.unique().shape[0]                                             #75\n",
    "\n",
    "train_rows_inds = np.array([row_id_to_ind[r] for r in train_rows])\n",
    "train_cols_inds = np.array([col_id_to_ind[c] for c in train_cols])\n",
    "\n",
    "test_rows_inds = np.array([row_id_to_ind[r] for r in test_rows])\n",
    "test_cols_inds = np.array([col_id_to_ind[c] for c in test_cols])"
   ]
  },
  {
   "cell_type": "code",
   "execution_count": 247,
   "metadata": {},
   "outputs": [],
   "source": [
    "train_data_stats = csv.reader(open('train_rating_stats.csv','r'))\n",
    "train_mean_and_std = [row[0] for row in train_data_stats][1:]\n",
    "train_data_mean = float(train_mean_and_std[0])\n",
    "train_data_std = float(train_mean_and_std[1])\n",
    "\n",
    "train_ratings_unnormalized = train_ratings.copy()\n",
    "train_ratings_unnormalized *= train_data_std\n",
    "train_ratings_unnormalized += train_data_mean"
   ]
  },
  {
   "cell_type": "code",
   "execution_count": 248,
   "metadata": {},
   "outputs": [],
   "source": [
    "def initialize(n_rows, n_cols, row_features=np.array([]), col_features=np.array([]), k=15):\n",
    "    \n",
    "    \"\"\"Initalize a random model, and normalize it so that it has sensible mean and variance\"\"\"\n",
    "    # (The normalization helps make sure we start out at a reasonable parameter scale, which speeds up training)\n",
    "    if row_features.size != 0:\n",
    "        k = row_features.shape[1]\n",
    "    elif col_features.size != 0:\n",
    "        k = col_features.shape[1]\n",
    "    if row_features.size == 0:\n",
    "        row_features = np.random.normal(size=(n_rows, k))\n",
    "    else:\n",
    "        row_features -= row_features.mean(axis=1)[:,None]\n",
    "        row_features /= row_features.std(axis=1)[:,None]\n",
    "    if col_features.size == 0:\n",
    "        col_features = np.random.normal(size=(n_cols, k))\n",
    "        \n",
    "    raw_predictions = predict((row_features, col_features))\n",
    "    \n",
    "    s = np.sqrt(2*raw_predictions.std()) # We want to start out with roughly unit variance\n",
    "    b = np.sqrt((train_data_mean - raw_predictions.mean()/s)/k) #We want to start out with average rating 3.5\n",
    "    row_features /= s\n",
    "    row_features += b\n",
    "    col_features /= s\n",
    "    col_features += b\n",
    "    \n",
    "    return (row_features, col_features)\n",
    "\n",
    "def predict(model):\n",
    "    \"\"\"The model's predictions for all row/col pairs\"\"\"\n",
    "    row_features, col_features = model\n",
    "    return row_features @ col_features.T\n",
    "\n",
    "def single_example_step(model, row, col, rating):\n",
    "    \"\"\"Update the model using the gradient at a single training example\"\"\"\n",
    "    row_features, col_features = model\n",
    "    residual = np.dot(row_features[row], col_features[col]) - rating\n",
    "    grad_rows = 2 * residual * col_features[col] # the gradient for the row_features matrix\n",
    "    grad_cols = 2 * residual * row_features[row] # the gradient for the col_features matrix\n",
    "    row_features[row] -= learning_rate*grad_rows\n",
    "    col_features[col] -= learning_rate*grad_cols\n",
    "\n",
    "def train_sgd(model, num_epochs, batch_size):\n",
    "    \"\"\"Train the model for a number of epochs via SGD (batch size=1)\"\"\"\n",
    "    row_features, col_features = model\n",
    "    train_MSEs = []\n",
    "    test_MSEs = []\n",
    "    # It's good practice to shuffle your data before doing batch gradient descent,\n",
    "    # so that each mini-batch peforms like a random sample from the dataset\n",
    "    for epoch in range(num_epochs):\n",
    "        shuffle = np.random.permutation(m) \n",
    "        shuffled_rows = train_rows[shuffle]\n",
    "        shuffled_cols = train_cols[shuffle]\n",
    "        shuffled_ratings = train_ratings[shuffle]\n",
    "        for row, col, rating in zip(shuffled_rows[:batch_size], shuffled_cols[:batch_size], shuffled_ratings[:batch_size]):\n",
    "            # update the model using the gradient at a single example\n",
    "            single_example_step(model, row_id_to_ind[row], col_id_to_ind[col], rating)\n",
    "        # after each Epoch, we'll evaluate our model\n",
    "        predicted = predict(model)        \n",
    "        predicted_unnormalized = predicted.copy()\n",
    "        predicted_unnormalized *= train_data_std\n",
    "        predicted_unnormalized += train_data_mean\n",
    "        train_loss = np.mean((train_ratings_unnormalized - predicted_unnormalized[train_rows_inds, train_cols_inds])**2)\n",
    "        test_loss = np.mean((test_ratings - predicted_unnormalized[test_rows_inds, test_cols_inds])**2)\n",
    "#         print(\"Loss after epoch #{} is: train/{} --- test/{}\".format(epoch+1, train_loss, test_loss))\n",
    "        train_MSEs.append(train_loss)\n",
    "        test_MSEs.append(test_loss)\n",
    "    return predicted_unnormalized, train_MSEs[20:], test_MSEs[20:]"
   ]
  },
  {
   "cell_type": "code",
   "execution_count": 249,
   "metadata": {},
   "outputs": [
    {
     "data": {
      "text/plain": [
       "<matplotlib.collections.PathCollection at 0x1c49568b070>"
      ]
     },
     "execution_count": 249,
     "metadata": {},
     "output_type": "execute_result"
    },
    {
     "data": {
      "image/png": "[encoded data removed]",
      "text/plain": [
       "<Figure size 432x288 with 1 Axes>"
      ]
     },
     "metadata": {
      "needs_background": "light"
     },
     "output_type": "display_data"
    }
   ],
   "source": [
    "row_features = user_history_indexed.to_numpy()\n",
    "sgd_model = initialize(n_rows, n_cols, row_features=row_features)\n",
    "predictions, train_MSEs, test_MSEs = train_sgd(sgd_model, num_epochs=2000, batch_size=100)\n",
    "\n",
    "plt.scatter(np.array(range(len(train_MSEs))), np.array(train_MSEs), s=2, c='b', marker='o')\n",
    "plt.scatter(np.array(range(len(test_MSEs))), np.array(test_MSEs), s=2, c='r', marker='o')"
   ]
  },
  {
   "cell_type": "code",
   "execution_count": 252,
   "metadata": {},
   "outputs": [
    {
     "data": {
      "text/plain": [
       "1.0265556057606662"
      ]
     },
     "execution_count": 252,
     "metadata": {},
     "output_type": "execute_result"
    }
   ],
   "source": [
    "np.sqrt(test_MSEs[-1])"
   ]
  }
 ],
 "metadata": {
  "kernelspec": {
   "display_name": "Python 3",
   "language": "python",
   "name": "python3"
  }
 },
 "nbformat": 4,
 "nbformat_minor": 2
}
