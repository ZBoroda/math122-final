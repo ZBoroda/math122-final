{
 "cells": [
  {
   "cell_type": "markdown",
   "metadata": {},
   "source": [
    "# Predicting Product Ratings From Web Browsing Data"
   ]
  },
  {
   "cell_type": "code",
   "execution_count": 1,
   "metadata": {},
   "outputs": [],
   "source": [
    "import numpy as np\n",
    "import pandas as pd\n",
    "from matrix_completion import MatrixCompletionizationizer\n",
    "from utils import *\n",
    "\n",
    "# load the browsing history data\n",
    "user_history = pd.read_csv(\"user_history.csv\")\n",
    "user_history_without_user_ID = user_history.drop(['USER ID'],axis=1)\n",
    "user_history_indexed = user_history.set_index('USER ID')\n",
    "user_ratings = pd.read_csv(\"user_ratings.csv\")\n",
    "user_history_indexed_normalized = user_history_indexed.copy()\n",
    "user_history_indexed_normalized -= user_history_indexed_normalized.mean()\n",
    "user_history_indexed_normalized /= user_history_indexed_normalized.std()\n",
    "\n",
    "# load the ratings data\n",
    "train, test = split_data('user_ratings.csv')"
   ]
  },
  {
   "cell_type": "code",
   "execution_count": 2,
   "metadata": {},
   "outputs": [],
   "source": [
    "FEATURE_SELECTION_METHODS = [\"All features\", \"PCA\", \"KMeans then PCA\", \"all\"]\n",
    "MATRIX_COMPLETION_METHODS = [\"Use web features as initial user features\", \"Append web features\"]\n",
    "\n",
    "FEATURE_SELECTION = FEATURE_SELECTION_METHODS[1] #set this to 0, 1, or 2, or 3 for \"all\"\n",
    "MATRIX_COMPLETION = MATRIX_COMPLETION_METHODS[0] #set this to 0 or 1\n",
    "\n",
    "#set hyperparameters here:\n",
    "learning_rate = 0.006\n",
    "num_epochs = 900\n",
    "batch_size = 1000\n",
    "k = 15"
   ]
  },
  {
   "cell_type": "markdown",
   "metadata": {},
   "source": [
    "## I. Using unmodified web browsing data as features"
   ]
  },
  {
   "cell_type": "code",
   "execution_count": 3,
   "metadata": {},
   "outputs": [],
   "source": [
    "if FEATURE_SELECTION == \"All features\" or FEATURE_SELECTION == \"all\":\n",
    "    row_id_to_ind = dict(zip(user_history['USER ID'].to_numpy(), range(len(user_history['USER ID'].to_numpy()))))\n",
    "    n_rows = len(row_id_to_ind)\n",
    "    col_id_to_ind = dict(zip(train['PRODUCT'].unique(), range(len(train['PRODUCT'].unique()))))\n",
    "    n_cols = len(col_id_to_ind)\n",
    "    \n",
    "    reduced_features = user_history_indexed_normalized\n",
    "\n",
    "    added_cols = reduced_features\n",
    "    added_col_id_to_ind = dict(zip(added_cols.columns.to_numpy(), range(n_cols, n_cols+added_cols.shape[1])))\n",
    "    all_cols_id_to_ind = {**col_id_to_ind, **added_col_id_to_ind}\n",
    "    added_cols_melted = added_cols.reset_index(inplace=False).melt('USER ID', var_name='PRODUCT', value_name='RATING')\n",
    "    n_all_cols = len(all_cols_id_to_ind)\n",
    "\n",
    "    train_appended = pd.concat([train, added_cols_melted], axis=0) \n",
    "    train_appended = train_appended.reset_index().drop(columns=['index'])\n",
    "\n",
    "    train_ratings = train['RATING']\n",
    "    train_rows = train['USER ID']\n",
    "    train_cols = train['PRODUCT']\n",
    "\n",
    "    train_ratings_appended = train_appended['RATING']\n",
    "    train_rows_appended = train_appended['USER ID']\n",
    "    train_cols_appended = train_appended['PRODUCT']\n",
    "\n",
    "    test_ratings = test['RATING']\n",
    "    test_rows = test['USER ID']\n",
    "    test_cols = test['PRODUCT']\n",
    "\n",
    "    row_features = reduced_features.to_numpy()\n",
    "    \n",
    "    if MATRIX_COMPLETION == \"Append web features\":\n",
    "        model = MatrixCompletionizationizer(n_rows, n_all_cols, k=k)\n",
    "        predicted = model.train(train_rows_appended, train_cols_appended, train_ratings_appended,\n",
    "                                row_id_to_ind, all_cols_id_to_ind,\n",
    "                                num_epochs=num_epochs, batch_size=batch_size, learning_rate = learning_rate,\n",
    "                                print_loss = True, graph_loss = True, \n",
    "                                original_train_rows=train_rows, original_train_cols=train_cols, \n",
    "                                original_train_vals=train_ratings, original_col_id_to_ind=col_id_to_ind)\n",
    "    elif MATRIX_COMPLETION == \"Use web features as initial user features\":\n",
    "        model = MatrixCompletionizationizer(n_rows, n_cols, row_features=row_features)        \n",
    "        predicted = model.train(train_rows, train_cols, train_ratings,\n",
    "                                row_id_to_ind, col_id_to_ind,\n",
    "                                num_epochs=num_epochs, batch_size=batch_size, learning_rate = learning_rate,\n",
    "                                print_loss = True, graph_loss = True)\n",
    "\n",
    "    test_rows_inds = np.array([row_id_to_ind[r] for r in test_rows])\n",
    "    test_cols_inds = np.array([col_id_to_ind[c] for c in test_cols])\n",
    "\n",
    "    print()\n",
    "    print(\"Test MSE for using unprocessed history matrix:\")\n",
    "    print(mse(test_ratings, predicted[test_rows_inds, test_cols_inds]))\n",
    "    print()\n",
    "    print(\"Average test error (square root of MSE) for using unprocessed history matrix:\")\n",
    "    print(np.sqrt(mse(test_ratings, predicted[test_rows_inds, test_cols_inds])))\n",
    "    print()"
   ]
  },
  {
   "cell_type": "markdown",
   "metadata": {},
   "source": [
    "## II. Using web browsing data after PCA"
   ]
  },
  {
   "cell_type": "code",
   "execution_count": 4,
   "metadata": {},
   "outputs": [
    {
     "data": {
      "image/png": "[encoded data removed]",
      "text/plain": [
       "<Figure size 432x288 with 1 Axes>"
      ]
     },
     "metadata": {
      "needs_background": "light"
     },
     "output_type": "display_data"
    },
    {
     "name": "stdout",
     "output_type": "stream",
     "text": [
      "Train loss after epoch #1 is: 28.710306322772443\n",
      "Train loss after epoch #90 is: 1.1313973939254187\n",
      "Train loss after epoch #180 is: 0.6250917727650802\n",
      "Train loss after epoch #270 is: 0.43966274733912486\n",
      "Train loss after epoch #360 is: 0.35355471176854875\n",
      "Train loss after epoch #450 is: 0.30212971332969807\n",
      "Train loss after epoch #540 is: 0.2673989167532102\n",
      "Train loss after epoch #630 is: 0.2503922180452375\n",
      "Train loss after epoch #720 is: 0.23312329896157308\n",
      "Train loss after epoch #810 is: 0.22321573595608166\n",
      "Train loss after epoch #900 is: 0.2130365649938602\n"
     ]
    },
    {
     "data": {
      "image/png": "[encoded data removed]",
      "text/plain": [
       "<Figure size 432x288 with 1 Axes>"
      ]
     },
     "metadata": {
      "needs_background": "light"
     },
     "output_type": "display_data"
    },
    {
     "name": "stdout",
     "output_type": "stream",
     "text": [
      "\n",
      "Test MSE for PCA on entire history matrix:\n",
      "0.8078946843869899\n",
      "\n",
      "Average test error (square root of MSE) for PCA on entire history matrix:\n",
      "0.8988296192198997\n",
      "\n"
     ]
    }
   ],
   "source": [
    "if FEATURE_SELECTION == \"PCA\" or FEATURE_SELECTION == \"all\":\n",
    "    row_id_to_ind = dict(zip(user_history['USER ID'].to_numpy(), range(len(user_history['USER ID'].to_numpy()))))\n",
    "    n_rows = len(row_id_to_ind)\n",
    "    col_id_to_ind = dict(zip(train['PRODUCT'].unique(), range(len(train['PRODUCT'].unique()))))\n",
    "    n_cols = len(col_id_to_ind)\n",
    "\n",
    "    reduced_features = PCA(user_history_indexed_normalized, user_history['USER ID'],\n",
    "                           spectrum_fraction_threshold=0.9, graph_spectrum_fractions=True)\n",
    "\n",
    "    added_cols = reduced_features\n",
    "    added_col_id_to_ind = dict(zip(added_cols.columns.to_numpy(), range(n_cols, n_cols+added_cols.shape[1])))\n",
    "    all_cols_id_to_ind = {**col_id_to_ind, **added_col_id_to_ind}\n",
    "    added_cols_melted = added_cols.reset_index(inplace=False).melt('USER ID', var_name='PRODUCT', value_name='RATING')\n",
    "    n_all_cols = len(all_cols_id_to_ind)\n",
    "\n",
    "    train_appended = pd.concat([train, added_cols_melted], axis=0) \n",
    "    train_appended = train_appended.reset_index().drop(columns=['index'])\n",
    "\n",
    "    train_ratings = train['RATING']\n",
    "    train_rows = train['USER ID']\n",
    "    train_cols = train['PRODUCT']\n",
    "\n",
    "    train_ratings_appended = train_appended['RATING']\n",
    "    train_rows_appended = train_appended['USER ID']\n",
    "    train_cols_appended = train_appended['PRODUCT']\n",
    "\n",
    "    test_ratings = test['RATING']\n",
    "    test_rows = test['USER ID']\n",
    "    test_cols = test['PRODUCT']\n",
    "\n",
    "    row_features = reduced_features.to_numpy()\n",
    "    \n",
    "    if MATRIX_COMPLETION == \"Append web features\":\n",
    "        model = MatrixCompletionizationizer(n_rows, n_all_cols, k=k)\n",
    "        predicted = model.train(train_rows_appended, train_cols_appended, train_ratings_appended,\n",
    "                                row_id_to_ind, all_cols_id_to_ind,\n",
    "                                num_epochs=num_epochs, batch_size=batch_size, learning_rate = learning_rate,\n",
    "                                print_loss = True, graph_loss = True, \n",
    "                                original_train_rows=train_rows, original_train_cols=train_cols, \n",
    "                                original_train_vals=train_ratings, original_col_id_to_ind=col_id_to_ind)\n",
    "    elif MATRIX_COMPLETION == \"Use web features as initial user features\":\n",
    "        model = MatrixCompletionizationizer(n_rows, n_cols, row_features=row_features)        \n",
    "        predicted = model.train(train_rows, train_cols, train_ratings,\n",
    "                                row_id_to_ind, col_id_to_ind,\n",
    "                                num_epochs=num_epochs, batch_size=batch_size, learning_rate = learning_rate,\n",
    "                                print_loss = True, graph_loss = True)\n",
    "\n",
    "    test_rows_inds = np.array([row_id_to_ind[r] for r in test_rows])\n",
    "    test_cols_inds = np.array([col_id_to_ind[c] for c in test_cols])\n",
    "\n",
    "    print()\n",
    "    print(\"Test MSE for PCA on entire history matrix:\")\n",
    "    print(mse(test_ratings, predicted[test_rows_inds, test_cols_inds]))\n",
    "    print()\n",
    "    print(\"Average test error (square root of MSE) for PCA on entire history matrix:\")\n",
    "    print(np.sqrt(mse(test_ratings, predicted[test_rows_inds, test_cols_inds])))\n",
    "    print()"
   ]
  },
  {
   "cell_type": "markdown",
   "metadata": {},
   "source": [
    "## III. Using web browsing data after PCA on individual clusters"
   ]
  },
  {
   "cell_type": "code",
   "execution_count": 5,
   "metadata": {},
   "outputs": [],
   "source": [
    "if FEATURE_SELECTION == \"KMeans then PCA\" or FEATURE_SELECTION == \"all\":\n",
    "    num_clusters = 3\n",
    "    reduced_cluster_data, user_history_clustered = KMeansPCA(user_history_indexed_normalized, user_history['USER ID'], 'USER ID', \n",
    "                                                             num_clusters=num_clusters, spectrum_fraction_threshold=0.9,\n",
    "                                                             plot_clusters=False)\n",
    "    train_with_clusters = train.merge(pd.DataFrame(user_history_clustered['Cluster']).reset_index())\n",
    "    test_with_clusters = test.merge(pd.DataFrame(user_history_clustered['Cluster']).reset_index())\n",
    "\n",
    "    for cluster_ind in range(num_clusters):\n",
    "\n",
    "        train = train_with_clusters[train_with_clusters['Cluster']==cluster_ind].drop(columns=['Cluster'])\n",
    "        test = test_with_clusters[test_with_clusters['Cluster']==cluster_ind].drop(columns=['Cluster'])\n",
    "\n",
    "        cluster_inds = reduced_cluster_data[cluster_ind].reset_index()['USER ID'].unique()\n",
    "        row_id_to_ind_cluster = dict(zip(cluster_inds, range(len(cluster_inds))))\n",
    "        col_id_to_ind = dict(zip(train['PRODUCT'].unique(), range(len(train['PRODUCT'].unique()))))\n",
    "        n_rows = len(row_id_to_ind_cluster)\n",
    "        n_cols = len(col_id_to_ind)\n",
    "\n",
    "        reduced_features = reduced_cluster_data[cluster_ind].sort_index()\n",
    "        added_cols = reduced_features\n",
    "        added_col_id_to_ind = dict(zip(added_cols.columns.to_numpy(), range(n_cols, n_cols+added_cols.shape[1])))\n",
    "        all_cols_id_to_ind = {**col_id_to_ind, **added_col_id_to_ind}\n",
    "        added_cols_melted = added_cols.reset_index(inplace=False).melt('USER ID', var_name='PRODUCT', value_name='RATING')\n",
    "        n_all_cols = len(all_cols_id_to_ind)\n",
    "\n",
    "        train_appended = pd.concat([train, added_cols_melted], axis=0) \n",
    "        train_appended = train_appended.reset_index().drop(columns=['index'])\n",
    "\n",
    "        train_ratings = train['RATING']\n",
    "        train_rows = train['USER ID']\n",
    "        train_cols = train['PRODUCT']\n",
    "\n",
    "        train_ratings_appended = train_appended['RATING']\n",
    "        train_rows_appended = train_appended['USER ID']\n",
    "        train_cols_appended = train_appended['PRODUCT']\n",
    "\n",
    "        test_ratings = test['RATING']\n",
    "        test_rows = test['USER ID']\n",
    "        test_cols = test['PRODUCT']\n",
    "\n",
    "        row_features = reduced_features.to_numpy()\n",
    "    \n",
    "        if MATRIX_COMPLETION == \"Append web features\":\n",
    "            model = MatrixCompletionizationizer(n_rows, n_all_cols, k=k)\n",
    "            predicted = model.train(train_rows_appended, train_cols_appended, train_ratings_appended,\n",
    "                                    row_id_to_ind_cluster, all_cols_id_to_ind,\n",
    "                                    num_epochs=num_epochs, batch_size=batch_size, learning_rate = learning_rate,\n",
    "                                    print_loss = True, graph_loss = True, \n",
    "                                    original_train_rows=train_rows, original_train_cols=train_cols, \n",
    "                                    original_train_vals=train_ratings, original_col_id_to_ind=col_id_to_ind)\n",
    "        elif MATRIX_COMPLETION == \"Use web features as initial user features\":\n",
    "            model = MatrixCompletionizationizer(n_rows, n_cols, row_features=row_features)        \n",
    "            predicted = model.train(train_rows, train_cols, train_ratings,\n",
    "                                    row_id_to_ind_cluster, col_id_to_ind,\n",
    "                                    num_epochs=num_epochs, batch_size=batch_size, learning_rate = learning_rate,\n",
    "                                    print_loss = True, graph_loss = True)\n",
    "\n",
    "        test_rows_inds = np.array([row_id_to_ind_cluster[r] for r in test_rows])\n",
    "        test_cols_inds = np.array([all_cols_id_to_ind[c] for c in test_cols])\n",
    "        print()\n",
    "        print(\"Test MSE for cluster #\" + str(cluster_ind) + \":\")\n",
    "        print(mse(test_ratings, predicted[test_rows_inds, test_cols_inds]))\n",
    "        print()\n",
    "        print(\"Average test error (square root of MSE) for cluster #\" + str(cluster_ind) + \":\")\n",
    "        print(np.sqrt(mse(test_ratings, predicted[test_rows_inds, test_cols_inds])))\n",
    "        print()"
   ]
  },
  {
   "cell_type": "markdown",
   "metadata": {},
   "source": [
    "## IV. Final Result"
   ]
  },
  {
   "cell_type": "code",
   "execution_count": 6,
   "metadata": {},
   "outputs": [
    {
     "name": "stdout",
     "output_type": "stream",
     "text": [
      "Train loss after epoch #1 is: 28.323740370464087\n",
      "Train loss after epoch #90 is: 1.1866197292490808\n",
      "Train loss after epoch #180 is: 0.6658861502823005\n",
      "Train loss after epoch #270 is: 0.47013194521205864\n",
      "Train loss after epoch #360 is: 0.3734729899467634\n",
      "Train loss after epoch #450 is: 0.31841427980509085\n",
      "Train loss after epoch #540 is: 0.2848675514188733\n",
      "Train loss after epoch #630 is: 0.26458385472563595\n",
      "Train loss after epoch #720 is: 0.24966043539008423\n",
      "Train loss after epoch #810 is: 0.24076041646605062\n",
      "Train loss after epoch #900 is: 0.23496164733269076\n"
     ]
    },
    {
     "data": {
      "image/png": "[encoded data removed]",
      "text/plain": [
       "<Figure size 432x288 with 1 Axes>"
      ]
     },
     "metadata": {
      "needs_background": "light"
     },
     "output_type": "display_data"
    }
   ],
   "source": [
    "row_id_to_ind = dict(zip(user_history['USER ID'].to_numpy(), range(len(user_history['USER ID'].to_numpy()))))\n",
    "n_rows = len(row_id_to_ind)\n",
    "col_id_to_ind = dict(zip(user_ratings['PRODUCT'].unique(), range(len(user_ratings['PRODUCT'].unique()))))\n",
    "n_cols = len(col_id_to_ind)\n",
    "\n",
    "reduced_features = PCA(user_history_indexed_normalized, user_history['USER ID'],\n",
    "                   spectrum_fraction_threshold=0.9, graph_spectrum_fractions=False)\n",
    "\n",
    "added_cols = reduced_features\n",
    "added_col_id_to_ind = dict(zip(added_cols.columns.to_numpy(), range(n_cols, n_cols+added_cols.shape[1])))\n",
    "all_cols_id_to_ind = {**col_id_to_ind, **added_col_id_to_ind}\n",
    "added_cols_melted = added_cols.reset_index(inplace=False).melt('USER ID', var_name='PRODUCT', value_name='RATING')\n",
    "n_all_cols = len(all_cols_id_to_ind)\n",
    "\n",
    "train_ratings = user_ratings['RATING']\n",
    "train_rows = user_ratings['USER ID']\n",
    "train_cols = user_ratings['PRODUCT']\n",
    "\n",
    "row_features = reduced_features.to_numpy()\n",
    "\n",
    "model = MatrixCompletionizationizer(n_rows, n_cols, row_features=row_features)        \n",
    "predicted = model.train(train_rows, train_cols, train_ratings,\n",
    "                        row_id_to_ind, col_id_to_ind,\n",
    "                        num_epochs=num_epochs, batch_size=batch_size, learning_rate = learning_rate,\n",
    "                        print_loss = True, graph_loss = True)\n",
    "predictions = pd.DataFrame(predicted, columns = col_id_to_ind)\n",
    "predictions['USER ID'] = row_id_to_ind"
   ]
  },
  {
   "cell_type": "code",
   "execution_count": 7,
   "metadata": {},
   "outputs": [],
   "source": [
    "predictions = predictions.melt(id_vars = 'USER ID', var_name='PRODUCT', value_name='RATING')\n",
    "predictions = predictions.set_index('USER ID')\n",
    "predictions.to_csv('predictions.csv')"
   ]
  },
  {
   "cell_type": "code",
   "execution_count": 8,
   "metadata": {
    "scrolled": true
   },
   "outputs": [
    {
     "data": {
      "text/html": [
       "<div>\n",
       "<style scoped>\n",
       "    .dataframe tbody tr th:only-of-type {\n",
       "        vertical-align: middle;\n",
       "    }\n",
       "\n",
       "    .dataframe tbody tr th {\n",
       "        vertical-align: top;\n",
       "    }\n",
       "\n",
       "    .dataframe thead th {\n",
       "        text-align: right;\n",
       "    }\n",
       "</style>\n",
       "<table border=\"1\" class=\"dataframe\">\n",
       "  <thead>\n",
       "    <tr style=\"text-align: right;\">\n",
       "      <th></th>\n",
       "      <th>USER ID</th>\n",
       "      <th>PRODUCT</th>\n",
       "      <th>RATING</th>\n",
       "    </tr>\n",
       "  </thead>\n",
       "  <tbody>\n",
       "    <tr>\n",
       "      <th>0</th>\n",
       "      <td>100950</td>\n",
       "      <td>secret postage</td>\n",
       "      <td>3.784134</td>\n",
       "    </tr>\n",
       "    <tr>\n",
       "      <th>1</th>\n",
       "      <td>100956</td>\n",
       "      <td>secret postage</td>\n",
       "      <td>4.599702</td>\n",
       "    </tr>\n",
       "    <tr>\n",
       "      <th>2</th>\n",
       "      <td>100962</td>\n",
       "      <td>secret postage</td>\n",
       "      <td>7.028474</td>\n",
       "    </tr>\n",
       "    <tr>\n",
       "      <th>3</th>\n",
       "      <td>100969</td>\n",
       "      <td>secret postage</td>\n",
       "      <td>0.000000</td>\n",
       "    </tr>\n",
       "    <tr>\n",
       "      <th>4</th>\n",
       "      <td>100974</td>\n",
       "      <td>secret postage</td>\n",
       "      <td>10.000000</td>\n",
       "    </tr>\n",
       "    <tr>\n",
       "      <th>...</th>\n",
       "      <td>...</td>\n",
       "      <td>...</td>\n",
       "      <td>...</td>\n",
       "    </tr>\n",
       "    <tr>\n",
       "      <th>337495</th>\n",
       "      <td>125614</td>\n",
       "      <td>bazooka diagram</td>\n",
       "      <td>4.975373</td>\n",
       "    </tr>\n",
       "    <tr>\n",
       "      <th>337496</th>\n",
       "      <td>125622</td>\n",
       "      <td>bazooka diagram</td>\n",
       "      <td>4.685992</td>\n",
       "    </tr>\n",
       "    <tr>\n",
       "      <th>337497</th>\n",
       "      <td>125629</td>\n",
       "      <td>bazooka diagram</td>\n",
       "      <td>4.246208</td>\n",
       "    </tr>\n",
       "    <tr>\n",
       "      <th>337498</th>\n",
       "      <td>125636</td>\n",
       "      <td>bazooka diagram</td>\n",
       "      <td>8.484014</td>\n",
       "    </tr>\n",
       "    <tr>\n",
       "      <th>337499</th>\n",
       "      <td>125645</td>\n",
       "      <td>bazooka diagram</td>\n",
       "      <td>7.278313</td>\n",
       "    </tr>\n",
       "  </tbody>\n",
       "</table>\n",
       "<p>337500 rows × 3 columns</p>\n",
       "</div>"
      ],
      "text/plain": [
       "        USER ID          PRODUCT     RATING\n",
       "0        100950   secret postage   3.784134\n",
       "1        100956   secret postage   4.599702\n",
       "2        100962   secret postage   7.028474\n",
       "3        100969   secret postage   0.000000\n",
       "4        100974   secret postage  10.000000\n",
       "...         ...              ...        ...\n",
       "337495   125614  bazooka diagram   4.975373\n",
       "337496   125622  bazooka diagram   4.685992\n",
       "337497   125629  bazooka diagram   4.246208\n",
       "337498   125636  bazooka diagram   8.484014\n",
       "337499   125645  bazooka diagram   7.278313\n",
       "\n",
       "[337500 rows x 3 columns]"
      ]
     },
     "execution_count": 8,
     "metadata": {},
     "output_type": "execute_result"
    }
   ],
   "source": [
    "pd.read_csv('predictions.csv')"
   ]
  }
 ],
 "metadata": {
  "kernelspec": {
   "display_name": "Python 3",
   "language": "python",
   "name": "python3"
  },
  "language_info": {
   "codemirror_mode": {
    "name": "ipython",
    "version": 3
   },
   "file_extension": ".py",
   "mimetype": "text/x-python",
   "name": "python",
   "nbconvert_exporter": "python",
   "pygments_lexer": "ipython3",
   "version": "3.8.8"
  }
 },
 "nbformat": 4,
 "nbformat_minor": 2
}
