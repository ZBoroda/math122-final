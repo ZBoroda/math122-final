{
 "cells": [
  {
   "cell_type": "code",
   "execution_count": 41,
   "metadata": {},
   "outputs": [],
   "source": [
    "import pandas as pd\n",
    "import numpy as np"
   ]
  },
  {
   "cell_type": "code",
   "execution_count": 42,
   "metadata": {},
   "outputs": [],
   "source": [
    "#divide data into training and testing sets\n",
    "data = pd.read_csv('user_ratings.csv')\n",
    "\n",
    "train = data.sample(frac=0.9, random_state=25)\n",
    "test = data.drop(train.index)"
   ]
  },
  {
   "cell_type": "code",
   "execution_count": 43,
   "metadata": {},
   "outputs": [],
   "source": [
    "train_mean = train['RATING'].mean()\n",
    "train_std = train['RATING'].std()"
   ]
  },
  {
   "cell_type": "code",
   "execution_count": 44,
   "metadata": {},
   "outputs": [],
   "source": [
    "normalized_train = train.copy()\n",
    "normalized_train['RATING'] -= train_mean\n",
    "normalized_train['RATING'] /= train_std"
   ]
  },
  {
   "cell_type": "code",
   "execution_count": 45,
   "metadata": {},
   "outputs": [],
   "source": [
    "normalized_train.to_csv('train_rating.csv', index = False)\n",
    "test.to_csv('test_rating.csv', index = False)"
   ]
  },
  {
   "cell_type": "code",
   "execution_count": 46,
   "metadata": {},
   "outputs": [],
   "source": [
    "pd.DataFrame([train_mean, train_std]).to_csv('train_rating_stats.csv', index=False)"
   ]
  },
  {
   "cell_type": "code",
   "execution_count": 47,
   "metadata": {},
   "outputs": [
    {
     "name": "stdout",
     "output_type": "stream",
     "text": [
      "0.10001482579688659\n",
      "0.8999851742031134\n"
     ]
    }
   ],
   "source": [
    "#check size of division\n",
    "train_t = pd.read_csv('train_rating.csv')\n",
    "test_t = pd.read_csv('test_rating.csv')\n",
    "print(test_t.shape[0]/data.shape[0])\n",
    "print(train_t.shape[0]/data.shape[0])"
   ]
  }
 ],
 "metadata": {
  "kernelspec": {
   "display_name": "Python 3",
   "language": "python",
   "name": "python3"
  },
  "language_info": {
   "codemirror_mode": {
    "name": "ipython",
    "version": 3
   },
   "file_extension": ".py",
   "mimetype": "text/x-python",
   "name": "python",
   "nbconvert_exporter": "python",
   "pygments_lexer": "ipython3",
   "version": "3.8.8"
  }
 },
 "nbformat": 4,
 "nbformat_minor": 4
}
